{
 "cells": [
  {
   "cell_type": "code",
   "execution_count": 1,
   "metadata": {},
   "outputs": [],
   "source": [
    "import numpy as np\n",
    "import math\n"
   ]
  },
  {
   "cell_type": "code",
   "execution_count": 12,
   "metadata": {},
   "outputs": [],
   "source": [
    "sweep = [\n",
    "    [0.0, 0.0],\n",
    "    [0.3, 0.0005],\n",
    "    [0.7812, 0.00119],\n",
    "    [1.1718, 0.00179],\n",
    "]"
   ]
  },
  {
   "cell_type": "markdown",
   "metadata": {},
   "source": [
    "## Math "
   ]
  },
  {
   "cell_type": "code",
   "execution_count": 20,
   "metadata": {},
   "outputs": [],
   "source": [
    "def rotateMAth(origin, point, angle):\n",
    "    \"\"\"\n",
    "    Rotate a point counterclockwise by a given angle around a given origin.\n",
    "    The angle should be given in radians.\n",
    "    \"\"\"\n",
    "    ox, oy = origin\n",
    "    px, py = point\n",
    "\n",
    "    qx = ox + math.cos(angle) * (px - ox) - math.sin(angle) * (py - oy)\n",
    "    qy = oy + math.sin(angle) * (px - ox) + math.cos(angle) * (py - oy)\n",
    "    return qx, qy\n"
   ]
  },
  {
   "cell_type": "code",
   "execution_count": 21,
   "metadata": {},
   "outputs": [
    {
     "data": {
      "text/plain": [
       "(7.0710678118654755, 7.0710678118654755)"
      ]
     },
     "execution_count": 21,
     "metadata": {},
     "output_type": "execute_result"
    }
   ],
   "source": [
    "point = (10, 0)\n",
    "origin = (0, 0)\n",
    "rotateMAth(origin, point, math.radians(45))\n",
    "# (2.6375113976783475, 4.143263683691346)"
   ]
  },
  {
   "cell_type": "markdown",
   "metadata": {},
   "source": [
    "## Scipy"
   ]
  },
  {
   "cell_type": "code",
   "execution_count": 78,
   "metadata": {},
   "outputs": [],
   "source": [
    "from scipy.ndimage import rotate"
   ]
  },
  {
   "cell_type": "code",
   "execution_count": 90,
   "metadata": {},
   "outputs": [],
   "source": [
    "sweep_3d = [\n",
    "    [0.3, 0.0005,0],\n",
    "    [0.7812, 0.00119,0],\n",
    "    [1.1718, 0.00179,0],\n",
    "]\n",
    "\n",
    "sweep = [[10,0]]"
   ]
  },
  {
   "cell_type": "code",
   "execution_count": 91,
   "metadata": {},
   "outputs": [],
   "source": [
    "from scipy.spatial.transform import Rotation as R"
   ]
  },
  {
   "cell_type": "code",
   "execution_count": 92,
   "metadata": {},
   "outputs": [
    {
     "data": {
      "text/plain": [
       "array([[ 0., 10.,  0.]])"
      ]
     },
     "execution_count": 92,
     "metadata": {},
     "output_type": "execute_result"
    }
   ],
   "source": [
    "p = R.from_euler(\"yx\",sweep, degrees=True )\n",
    "p.as_euler('zyx', degrees=True)"
   ]
  },
  {
   "cell_type": "code",
   "execution_count": 102,
   "metadata": {},
   "outputs": [
    {
     "data": {
      "text/plain": [
       "<scipy.spatial.transform._rotation.Rotation at 0x19990b79890>"
      ]
     },
     "execution_count": 102,
     "metadata": {},
     "output_type": "execute_result"
    }
   ],
   "source": [
    "#10° rotation in each principal direction:\n",
    "r = R.from_euler('yx',(10,10), degrees=True) \n",
    "r"
   ]
  },
  {
   "cell_type": "code",
   "execution_count": 103,
   "metadata": {},
   "outputs": [
    {
     "ename": "ValueError",
     "evalue": "Expected input of shape (3,) or (P, 3), got (1,).",
     "output_type": "error",
     "traceback": [
      "\u001b[1;31m---------------------------------------------------------------------------\u001b[0m",
      "\u001b[1;31mValueError\u001b[0m                                Traceback (most recent call last)",
      "Cell \u001b[1;32mIn[103], line 1\u001b[0m\n\u001b[1;32m----> 1\u001b[0m p_r\u001b[39m=\u001b[39mr\u001b[39m.\u001b[39;49mapply(p) \u001b[39m#Rotated points\u001b[39;00m\n\u001b[0;32m      3\u001b[0m p_r\n",
      "File \u001b[1;32m_rotation.pyx:1726\u001b[0m, in \u001b[0;36mscipy.spatial.transform._rotation.Rotation.apply\u001b[1;34m()\u001b[0m\n",
      "\u001b[1;31mValueError\u001b[0m: Expected input of shape (3,) or (P, 3), got (1,)."
     ]
    }
   ],
   "source": [
    "\n",
    "p_r=r.apply(p) #Rotated points\n",
    "\n",
    "p_r"
   ]
  },
  {
   "cell_type": "code",
   "execution_count": 38,
   "metadata": {},
   "outputs": [
    {
     "data": {
      "text/plain": [
       "array([[ 0.00000000e+00,  0.00000000e+00,  0.00000000e+00,\n",
       "         0.00000000e+00],\n",
       "       [ 0.00000000e+00,  5.84214963e-04, -3.52943376e-02,\n",
       "         0.00000000e+00],\n",
       "       [ 0.00000000e+00,  6.55195434e-01,  1.72442465e-03,\n",
       "         0.00000000e+00],\n",
       "       [ 0.00000000e+00,  0.00000000e+00,  0.00000000e+00,\n",
       "         0.00000000e+00]])"
      ]
     },
     "execution_count": 38,
     "metadata": {},
     "output_type": "execute_result"
    }
   ],
   "source": [
    "rotate(sweep_3d, angle=45)\n"
   ]
  },
  {
   "cell_type": "code",
   "execution_count": null,
   "metadata": {},
   "outputs": [],
   "source": [
    "np.rot"
   ]
  },
  {
   "cell_type": "code",
   "execution_count": 191,
   "metadata": {},
   "outputs": [
    {
     "data": {
      "text/plain": [
       "array([[ 0, -1,  0],\n",
       "       [ 0,  2,  0]])"
      ]
     },
     "execution_count": 191,
     "metadata": {},
     "output_type": "execute_result"
    }
   ],
   "source": [
    "import numpy as np\n",
    "from scipy.ndimage import rotate\n",
    "x = np.array([[10,0,0], [5,0,0]])\n",
    "rotate(x, angle=45, reshape=False)"
   ]
  },
  {
   "cell_type": "markdown",
   "metadata": {},
   "source": [
    "## Open3D"
   ]
  },
  {
   "cell_type": "code",
   "execution_count": 192,
   "metadata": {},
   "outputs": [],
   "source": [
    "import numpy as np\n",
    "import open3d as o3d"
   ]
  },
  {
   "cell_type": "code",
   "execution_count": 258,
   "metadata": {},
   "outputs": [
    {
     "data": {
      "text/plain": [
       "array([[ 0., 10.,  0.],\n",
       "       [ 0.,  5.,  0.]])"
      ]
     },
     "execution_count": 258,
     "metadata": {},
     "output_type": "execute_result"
    }
   ],
   "source": [
    "yxz = [[0,10,0], [0,5,0]]\n",
    "\n",
    "pcd = o3d.geometry.PointCloud()\n",
    "pcd.points = o3d.utility.Vector3dVector(yxz)\n",
    "\n",
    "xyz_load = np.asarray(pcd.points)\n",
    "xyz_load"
   ]
  },
  {
   "cell_type": "code",
   "execution_count": 259,
   "metadata": {},
   "outputs": [
    {
     "data": {
      "text/plain": [
       "array([[1.000000e+01, 6.123234e-16, 0.000000e+00],\n",
       "       [5.000000e+00, 3.061617e-16, 0.000000e+00]])"
      ]
     },
     "execution_count": 259,
     "metadata": {},
     "output_type": "execute_result"
    }
   ],
   "source": [
    "# R = pcd.get_rotation_matrix_from_xyz((np.pi / 2, 0, np.pi / 4))\n",
    "R = pcd.get_rotation_matrix_from_xyz((0, 0, math.radians(-90)))\n",
    "# R = pcd.get_rotation_matrix_from_axis_angle((math.radians(45), 0, 0))\n",
    "\n",
    "pcd=pcd.rotate(R, center=(0,0,0))\n",
    "\n",
    "xyz_load = np.asarray(pcd.points)\n",
    "xyz_load"
   ]
  },
  {
   "cell_type": "code",
   "execution_count": 262,
   "metadata": {},
   "outputs": [
    {
     "data": {
      "text/plain": [
       "array([[-7.07106781,  7.07106781,  0.        ],\n",
       "       [-3.53553391,  3.53553391,  0.        ]])"
      ]
     },
     "execution_count": 262,
     "metadata": {},
     "output_type": "execute_result"
    }
   ],
   "source": [
    "def rotate_point_cloud_azimuth(pcd_yxz, degrees):\n",
    "    \"\"\"\n",
    "    Rotate points along azimuth  \n",
    "    ----------------\n",
    "\n",
    "    pcd_yxz: Points coordinates YXZ [[y1,x1,z1],[y2,x2,z2]...]\n",
    "    degrees: float \n",
    "\n",
    "    ### Return\n",
    "    Rotated point cloud as a numpy array YXZ\n",
    "    \"\"\"\n",
    "    pcd = o3d.geometry.PointCloud()\n",
    "    pcd.points = o3d.utility.Vector3dVector(pcd_yxz)  # Array input format \n",
    "    R = pcd.get_rotation_matrix_from_xyz((0, 0, math.radians(degrees))) \n",
    "    pcd=pcd.rotate(R, center=(0,0,0))\n",
    "    yxz_load = np.asarray(pcd.points)\n",
    "    return yxz_load\n",
    "\n",
    "\n",
    "yxz = [[0,10,0], [0,5,0]]\n",
    "\n",
    "rotate_point_cloud_azimuth(yxz, 45)"
   ]
  },
  {
   "cell_type": "code",
   "execution_count": 144,
   "metadata": {},
   "outputs": [],
   "source": [
    "o3d.visualization.draw_geometries([pcd])"
   ]
  },
  {
   "cell_type": "code",
   "execution_count": null,
   "metadata": {},
   "outputs": [],
   "source": [
    "o3d.visualization.draw_geometries([pcd],\n",
    "                                  zoom=1,\n",
    "                                  front=[0.4257, -0.2125, -0.8795],\n",
    "                                  lookat=[0, 0, 0],\n",
    "                                  up=[-0.0694, -0.9768, 0.2024])"
   ]
  },
  {
   "cell_type": "code",
   "execution_count": 209,
   "metadata": {},
   "outputs": [
    {
     "ename": "NameError",
     "evalue": "name 'copy' is not defined",
     "output_type": "error",
     "traceback": [
      "\u001b[1;31m---------------------------------------------------------------------------\u001b[0m",
      "\u001b[1;31mNameError\u001b[0m                                 Traceback (most recent call last)",
      "Cell \u001b[1;32mIn[209], line 2\u001b[0m\n\u001b[0;32m      1\u001b[0m mesh \u001b[39m=\u001b[39m o3d\u001b[39m.\u001b[39mgeometry\u001b[39m.\u001b[39mTriangleMesh\u001b[39m.\u001b[39mcreate_coordinate_frame()\n\u001b[1;32m----> 2\u001b[0m mesh_tx \u001b[39m=\u001b[39m copy\u001b[39m.\u001b[39mdeepcopy(mesh)\u001b[39m.\u001b[39mtranslate((\u001b[39m1.3\u001b[39m, \u001b[39m0\u001b[39m, \u001b[39m0\u001b[39m))\n\u001b[0;32m      3\u001b[0m mesh_ty \u001b[39m=\u001b[39m copy\u001b[39m.\u001b[39mdeepcopy(mesh)\u001b[39m.\u001b[39mtranslate((\u001b[39m0\u001b[39m, \u001b[39m1.3\u001b[39m, \u001b[39m0\u001b[39m))\n\u001b[0;32m      4\u001b[0m \u001b[39mprint\u001b[39m(\u001b[39mf\u001b[39m\u001b[39m'\u001b[39m\u001b[39mCenter of mesh: \u001b[39m\u001b[39m{\u001b[39;00mmesh\u001b[39m.\u001b[39mget_center()\u001b[39m}\u001b[39;00m\u001b[39m'\u001b[39m)\n",
      "\u001b[1;31mNameError\u001b[0m: name 'copy' is not defined"
     ]
    }
   ],
   "source": [
    "mesh = o3d.geometry.TriangleMesh.create_coordinate_frame()\n",
    "mesh_tx = copy.deepcopy(mesh).translate((1.3, 0, 0))\n",
    "mesh_ty = copy.deepcopy(mesh).translate((0, 1.3, 0))\n",
    "print(f'Center of mesh: {mesh.get_center()}')\n",
    "print(f'Center of mesh tx: {mesh_tx.get_center()}')\n",
    "print(f'Center of mesh ty: {mesh_ty.get_center()}')\n",
    "o3d.visualization.draw_geometries([mesh, mesh_tx, mesh_ty])"
   ]
  },
  {
   "cell_type": "code",
   "execution_count": null,
   "metadata": {},
   "outputs": [],
   "source": []
  },
  {
   "cell_type": "markdown",
   "metadata": {},
   "source": [
    "# Numpy add element to all items"
   ]
  },
  {
   "cell_type": "code",
   "execution_count": 9,
   "metadata": {},
   "outputs": [
    {
     "ename": "AttributeError",
     "evalue": "'numpy.ndarray' object has no attribute 'append'",
     "output_type": "error",
     "traceback": [
      "\u001b[1;31m---------------------------------------------------------------------------\u001b[0m",
      "\u001b[1;31mAttributeError\u001b[0m                            Traceback (most recent call last)",
      "Cell \u001b[1;32mIn[9], line 6\u001b[0m\n\u001b[0;32m      3\u001b[0m points_xy \u001b[39m=\u001b[39m np\u001b[39m.\u001b[39masarray([[\u001b[39m1\u001b[39m,\u001b[39m2\u001b[39m],[\u001b[39m2\u001b[39m,\u001b[39m2\u001b[39m]])\n\u001b[0;32m      5\u001b[0m \u001b[39mfor\u001b[39;00m k \u001b[39min\u001b[39;00m points_xy:\n\u001b[1;32m----> 6\u001b[0m     k\u001b[39m.\u001b[39;49mappend(\u001b[39m0\u001b[39m)\n\u001b[0;32m      8\u001b[0m points_xy\n",
      "\u001b[1;31mAttributeError\u001b[0m: 'numpy.ndarray' object has no attribute 'append'"
     ]
    }
   ],
   "source": [
    "# XY Points to XYZ Points  \n",
    "\n",
    "points_xy = np.asarray([[1,2],[2,2]])\n",
    "\n",
    "for k in rangepoints_xy:\n",
    "    k.append(0)\n",
    "    k[k] = k\n",
    "\n",
    "points_xy"
   ]
  },
  {
   "cell_type": "code",
   "execution_count": 1,
   "metadata": {},
   "outputs": [
    {
     "data": {
      "text/plain": [
       "[[1, 2, 0], [2, 2, 0]]"
      ]
     },
     "execution_count": 1,
     "metadata": {},
     "output_type": "execute_result"
    }
   ],
   "source": [
    "points = [[1,2],[2,2]]\n",
    "\n",
    "[[x,y,0] for (x,y) in points]\n"
   ]
  },
  {
   "cell_type": "code",
   "execution_count": 12,
   "metadata": {},
   "outputs": [
    {
     "data": {
      "text/plain": [
       "'[[1, 2], [2, 2]]'"
      ]
     },
     "execution_count": 12,
     "metadata": {},
     "output_type": "execute_result"
    }
   ],
   "source": [
    "yxz_rotated = np.asarray(points).tolist()\n",
    "yxz_rotated_str = str(yxz_rotated)\n",
    "yxz_rotated_str"
   ]
  },
  {
   "cell_type": "code",
   "execution_count": 2,
   "metadata": {},
   "outputs": [
    {
     "data": {
      "text/plain": [
       "529"
      ]
     },
     "execution_count": 2,
     "metadata": {},
     "output_type": "execute_result"
    }
   ],
   "source": [
    "import random\n",
    "\n",
    "random.randint(1,999)"
   ]
  },
  {
   "cell_type": "markdown",
   "metadata": {},
   "source": []
  }
 ],
 "metadata": {
  "kernelspec": {
   "display_name": "Python 3.10.4 ('env': venv)",
   "language": "python",
   "name": "python3"
  },
  "language_info": {
   "codemirror_mode": {
    "name": "ipython",
    "version": 3
   },
   "file_extension": ".py",
   "mimetype": "text/x-python",
   "name": "python",
   "nbconvert_exporter": "python",
   "pygments_lexer": "ipython3",
   "version": "3.10.4"
  },
  "orig_nbformat": 4,
  "vscode": {
   "interpreter": {
    "hash": "956e9e484dd596d47a02702f73c4ee39aec8b1c2be3ae2edf2e210e6d2bfc641"
   }
  }
 },
 "nbformat": 4,
 "nbformat_minor": 2
}
